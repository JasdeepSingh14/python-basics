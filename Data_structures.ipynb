{
  "nbformat": 4,
  "nbformat_minor": 0,
  "metadata": {
    "colab": {
      "provenance": []
    },
    "kernelspec": {
      "name": "python3",
      "display_name": "Python 3"
    },
    "language_info": {
      "name": "python"
    }
  },
  "cells": [
    {
      "cell_type": "markdown",
      "source": [
        "**THEORY QUESTIONS**"
      ],
      "metadata": {
        "id": "diWJ2sMqq3Fs"
      }
    },
    {
      "cell_type": "markdown",
      "source": [
        "1. What are data structures, and why are they important?\n",
        "\n",
        "ANSWER- A data structure is a way of organizing and storing data in a computer so that it can be accessed and used efficiently. It refers to the logical or mathematical representation of data, as well as the implementation in a computer program.\n",
        "\n",
        "2. Explain the difference between mutable and immutable data types with examples\n",
        "\n",
        "ANSWER- Mutable data types can be changed after creation, means we can alter their contents without creating a new object; for example, a list my_list = [1, 2, 3] can be modified by my_list[0] = 10. Immutable data types cannot be changed once created, so any “modification” creates a new object; for example, a string s = \"hello\" cannot be altered in place\n",
        "\n",
        "3. What are the main differences between lists and tuples in Python\n",
        "\n",
        "ANSWER- The main differences between lists and tuples in Python are: mutability (lists are mutable, tuples are immutable), syntax (lists use [], tuples use ()), performance (tuples are slightly faster and use less memory due to immutability), and usage (lists are preferred for dynamic, changeable data, while tuples are used for fixed, constant data\n",
        "\n",
        "4. Describe how dictionaries store data\n",
        "\n",
        "ANSWER- Dictionaries store data as key–value pairs in a hash table, where each key is passed through a hash function to generate a hash value where the corresponding value is stored\n",
        "\n",
        "5. Why might you use a set instead of a list in Python\n",
        "\n",
        "ANSWER-  We might use a set instead of a list in Python when we need to store only unique elements, or use set operations like union, intersection, and difference"
      ],
      "metadata": {
        "id": "_PdpbVtwrBY5"
      }
    },
    {
      "cell_type": "markdown",
      "source": [
        "\n",
        "6. What is a string in Python, and how is it different from a list\n",
        "\n",
        "ANSWER- string is an immutable sequence of Unicode characters used to represent text, while a list is a mutable sequence that can hold elements of any data type; unlike lists, strings cannot be modified in place, store only characters, and support text-specific operations like .upper() or .split(), whereas lists allow item reassignment, insertion, and deletion.\n",
        "\n",
        "7. How do tuples ensure data integrity in Python\n",
        "\n",
        "ANSWER- Tuples ensure data integrity in Python by being immutable, meaning their contents cannot be altered after creation, which prevents accidental changes.\n",
        "\n",
        "8. What is a hash table, and how does it relate to dictionaries in Python\n",
        "\n",
        "ANSWER- A hash table is a data structure that stores key–value pairs by applying a hash function to each key to determine its storage location in memory, enabling fast lookups, insertions, and deletions, which is why dictionary lookups are generally much faster than searching through a list.\n",
        "\n",
        "9. Can lists contain different data types in Python\n",
        "\n",
        "ANSWER- Yes, lists in Python can contain elements of different data types, such as integers, strings, floats, or even other lists and objects\n",
        "\n",
        "10.  Explain why strings are immutable in Python\n",
        "\n",
        "ANSWER- Strings are immutable in Python because once a string is created, its contents cannot be changed"
      ],
      "metadata": {
        "id": "gGUFq2iQq3L_"
      }
    },
    {
      "cell_type": "markdown",
      "source": [
        "11. What advantages do dictionaries offer over lists for certain tasks\n",
        "\n",
        "ANSWER- Dictionaries are faster than lists, allow storing data as key–value pairs for more meaningful access, make it easy to map unique identifiers to data without searching through indexes, and handle better than lists\n",
        "\n",
        "12. Describe a scenario where using a tuple would be preferable over a list\n",
        "\n",
        "ANSWER- A tuple is preferable over a list when we need to store fixed, unchangeable data that should remain constant throughout the program, such as coordinates (x, y) because tuples are immutable and list are mutable\n",
        "\n",
        "13. How do sets handle duplicate values in Python3\n",
        "\n",
        "ANSWER- sets automatically remove duplicate values because they are implemented as hash tables where each element must be unique\n",
        "\n",
        "14.  How does the “in” keyword work differently for lists and dictionaries\n",
        "\n",
        "ANSWER-  For lists, the in keyword checks whether a given value exists among the lists elements, scanning sequentially until it finds a match. For dictionaries, in checks whether the given value exists as a key by looking it up in the hash table\n",
        "\n",
        "15. Can you modify the elements of a tuple? Explain why or why not\n",
        "\n",
        "ANSWER- No, we cannot modify the elements of a tuple because tuples in Python are immutable, meaning that once they are created, their elements and order cannot be changed\n"
      ],
      "metadata": {
        "id": "mj0xPenRobZ2"
      }
    },
    {
      "cell_type": "markdown",
      "source": [
        "16.  What is a nested dictionary, and give an example of its use case\n",
        "\n",
        "ANSWER- A nested dictionary is a dictionary where some values are themselves dictionaries, allowing storage of hierarchical or multi-level data. OR we can say a dictionary within another dictionary\n",
        "students = {\n",
        "    \"101\": {\"name\": \"Alice\", \"age\": 20, \"marks\": {\"math\": 85, \"science\": 90}},\n",
        "    \"102\": {\"name\": \"Bob\", \"age\": 21, \"marks\": {\"math\": 78, \"science\": 88}}\n",
        "}\n",
        "\n",
        "17. Describe the time complexity of accessing elements in a dictionary\n",
        "\n",
        "ANSWER- average time complexity of O(1) because dictionaries use a hash table.\n",
        " In the worst case O(n)\n",
        "\n",
        "18. In what situations are lists preferred over dictionaries\n",
        "\n",
        "ANSWER-Lists are preferred over dictionaries when the data is naturally ordered by position, when there is need of fast index based access when the elements don’t need unique keys, when want to store duplicate values etc.\n",
        "\n",
        "\n",
        "19.Why are dictionaries considered unordered, and how does that affect data retrieval\n",
        "\n",
        "ANSWER- Dictionaries are called unordered because the way they store key-value pairs is based on hashing, not on the sequence in which we add them.\n",
        "therefore they are unordered collection of key value pairs.\n",
        "\n",
        "it also affect the data retrieval as due to unordered collection of key value pairs they cannot be access with indexes like lists whereas it is accessible through the keys and the order of the keys is also independent.\n",
        "\n",
        "\n",
        "20. Explain the difference between a list and a dictionary in terms of data retrieval.\n",
        "\n",
        "ANSWER- a list uses numeric indices to access elements, so finding an item by value requires scanning the list, while a dictionary uses unique keys mapped through a hash table, allowing direct access to values without searching through all elements."
      ],
      "metadata": {
        "id": "axBC284_cqlL"
      }
    },
    {
      "cell_type": "markdown",
      "source": [
        "**PRACTICAL QUESTIONS**"
      ],
      "metadata": {
        "id": "lF90QZ4lpoBd"
      }
    },
    {
      "cell_type": "code",
      "execution_count": null,
      "metadata": {
        "colab": {
          "base_uri": "https://localhost:8080/"
        },
        "id": "aL4aPVvsWkSk",
        "outputId": "2486b96e-dac1-46c7-dcac-ed70569ade08"
      },
      "outputs": [
        {
          "output_type": "stream",
          "name": "stdout",
          "text": [
            "JASDEEP SINGH\n"
          ]
        }
      ],
      "source": [
        "# 1. Write a code to create a string with your name and print it\n",
        "\n",
        "string='JASDEEP SINGH'\n",
        "print(string)\n"
      ]
    },
    {
      "cell_type": "code",
      "source": [
        "#2. Write a code to find the length of the string \"Hello World\"P\n",
        "\n",
        "string='Hello World'\n",
        "print(len(string))"
      ],
      "metadata": {
        "colab": {
          "base_uri": "https://localhost:8080/"
        },
        "id": "j7jKnxWsXP5P",
        "outputId": "d5d87bb5-62c1-4686-efd4-d7f5e91e3029"
      },
      "execution_count": null,
      "outputs": [
        {
          "output_type": "stream",
          "name": "stdout",
          "text": [
            "11\n"
          ]
        }
      ]
    },
    {
      "cell_type": "code",
      "source": [
        "#3. Write a code to slice the first 3 characters from the string \"Python Programming\"\n",
        "\n",
        "string=\"Python Programming\"\n",
        "print(string[0:3])"
      ],
      "metadata": {
        "colab": {
          "base_uri": "https://localhost:8080/"
        },
        "id": "BVFK4aQnYgMa",
        "outputId": "6bfc8ac1-ebaf-4984-cc71-29cf54efba0e"
      },
      "execution_count": null,
      "outputs": [
        {
          "output_type": "stream",
          "name": "stdout",
          "text": [
            "Pyt\n"
          ]
        }
      ]
    },
    {
      "cell_type": "code",
      "source": [
        "#4. Write a code to convert the string \"hello\" to uppercase\n",
        "\n",
        "string=\"hello\"\n",
        "print(string.upper())"
      ],
      "metadata": {
        "colab": {
          "base_uri": "https://localhost:8080/"
        },
        "id": "Fp87yBijYtRO",
        "outputId": "b158f31c-2853-4409-8539-441d649dcba0"
      },
      "execution_count": null,
      "outputs": [
        {
          "output_type": "stream",
          "name": "stdout",
          "text": [
            "HELLO\n"
          ]
        }
      ]
    },
    {
      "cell_type": "code",
      "source": [
        "#5. Write a code to replace the word \"apple\" with \"orange\" in the string \"I like apple\"\n",
        "\n",
        "string=\"I like apple\"\n",
        "print(string.replace(\"apple\",\"orange\"))"
      ],
      "metadata": {
        "colab": {
          "base_uri": "https://localhost:8080/"
        },
        "id": "pYzZZlxwY6Tk",
        "outputId": "6d258aae-d3bc-421e-b31c-a1f1a259e5f9"
      },
      "execution_count": null,
      "outputs": [
        {
          "output_type": "stream",
          "name": "stdout",
          "text": [
            "I like orange\n"
          ]
        }
      ]
    },
    {
      "cell_type": "code",
      "source": [
        "#6. Write a code to create a list with numbers 1 to 5 and print it\n",
        "\n",
        "list=[1,2,3,4,5]\n",
        "print(list)"
      ],
      "metadata": {
        "colab": {
          "base_uri": "https://localhost:8080/"
        },
        "id": "MFBF5qCnZNFe",
        "outputId": "c0abbee0-d7ec-4c0e-e746-4435c77f2f41"
      },
      "execution_count": null,
      "outputs": [
        {
          "output_type": "stream",
          "name": "stdout",
          "text": [
            "[1, 2, 3, 4, 5]\n"
          ]
        }
      ]
    },
    {
      "cell_type": "code",
      "source": [
        "#7. Write a code to append the number 10 to the list [1, 2, 3, 4]\n",
        "\n",
        "list=[1,2,3,4]\n",
        "list.append(10)\n",
        "print(list)"
      ],
      "metadata": {
        "colab": {
          "base_uri": "https://localhost:8080/"
        },
        "id": "ji8ibc0lZYQr",
        "outputId": "ddd6006c-c50a-47fd-b557-a8b06440452d"
      },
      "execution_count": null,
      "outputs": [
        {
          "output_type": "stream",
          "name": "stdout",
          "text": [
            "[1, 2, 3, 4, 10]\n"
          ]
        }
      ]
    },
    {
      "cell_type": "code",
      "source": [
        "#8. Write a code to remove the number 3 from the list [1, 2, 3, 4, 5]\n",
        "\n",
        "list=[1,2,3,4,5]\n",
        "list.remove(3)\n",
        "print(list)"
      ],
      "metadata": {
        "colab": {
          "base_uri": "https://localhost:8080/"
        },
        "id": "isCeR_TFZejd",
        "outputId": "0692e556-4218-4158-c29f-96e5b7bf9014"
      },
      "execution_count": null,
      "outputs": [
        {
          "output_type": "stream",
          "name": "stdout",
          "text": [
            "[1, 2, 4, 5]\n"
          ]
        }
      ]
    },
    {
      "cell_type": "code",
      "source": [
        "#9. Write a code to access the second element in the list ['a', 'b', 'c', 'd']\n",
        "\n",
        "list=['a','b','c','d']\n",
        "print(list[1])"
      ],
      "metadata": {
        "colab": {
          "base_uri": "https://localhost:8080/"
        },
        "id": "Y4KTQNQHZrOf",
        "outputId": "e81a0abf-98c0-4c1d-87a0-55c3d276e259"
      },
      "execution_count": null,
      "outputs": [
        {
          "output_type": "stream",
          "name": "stdout",
          "text": [
            "b\n"
          ]
        }
      ]
    },
    {
      "cell_type": "code",
      "source": [
        "#10. Write a code to reverse the list [10, 20, 30, 40, 50].\n",
        "\n",
        "list=[10,20,30,40,50]\n",
        "list.reverse()\n",
        "print(list)"
      ],
      "metadata": {
        "colab": {
          "base_uri": "https://localhost:8080/"
        },
        "id": "yahpK-N7Zxg7",
        "outputId": "03e228b3-fe29-4c0b-8df1-ea284746cd20"
      },
      "execution_count": null,
      "outputs": [
        {
          "output_type": "stream",
          "name": "stdout",
          "text": [
            "[50, 40, 30, 20, 10]\n"
          ]
        }
      ]
    },
    {
      "cell_type": "code",
      "source": [
        "#11. Write a code to create a tuple with the elements 100, 200, 300 and print it\n",
        "\n",
        "tup=(100,200,300)\n",
        "print(tup)"
      ],
      "metadata": {
        "colab": {
          "base_uri": "https://localhost:8080/"
        },
        "id": "f58GiUscZ85m",
        "outputId": "f83cb5ec-094a-4b13-d476-4daa2d7b67e7"
      },
      "execution_count": null,
      "outputs": [
        {
          "output_type": "stream",
          "name": "stdout",
          "text": [
            "(100, 200, 300)\n"
          ]
        }
      ]
    },
    {
      "cell_type": "code",
      "source": [
        "#12. Write a code to access the second-to-last element of the tuple ('red', 'green', 'blue', 'yellow').\n",
        "\n",
        "tup=('red','green','blue','yellow')\n",
        "print(tup[1:])"
      ],
      "metadata": {
        "colab": {
          "base_uri": "https://localhost:8080/"
        },
        "id": "wjpnWJJsaD13",
        "outputId": "40f76b08-1263-4e33-e0c6-6b54b1e24b47"
      },
      "execution_count": null,
      "outputs": [
        {
          "output_type": "stream",
          "name": "stdout",
          "text": [
            "('green', 'blue', 'yellow')\n"
          ]
        }
      ]
    },
    {
      "cell_type": "code",
      "source": [
        "#13. Write a code to find the minimum number in the tuple (10, 20, 5, 15).\n",
        "\n",
        "tup=(10, 20, 5, 15)\n",
        "print(min(tup))"
      ],
      "metadata": {
        "colab": {
          "base_uri": "https://localhost:8080/"
        },
        "id": "F5PDccPlaZUZ",
        "outputId": "4205ea6c-42c2-4a2b-bfe6-5b98d649b553"
      },
      "execution_count": null,
      "outputs": [
        {
          "output_type": "stream",
          "name": "stdout",
          "text": [
            "5\n"
          ]
        }
      ]
    },
    {
      "cell_type": "code",
      "source": [
        "#14. Write a code to find the index of the element \"cat\" in the tuple ('dog', 'cat', 'rabbit').\n",
        "\n",
        "tup=('dog', 'cat', 'rabbit')\n",
        "ind=tup.index('cat')\n",
        "print(ind)"
      ],
      "metadata": {
        "colab": {
          "base_uri": "https://localhost:8080/"
        },
        "id": "poHw3eqSbCbI",
        "outputId": "ff679e60-ed9a-4bb2-b81e-b13bd0eed472"
      },
      "execution_count": null,
      "outputs": [
        {
          "output_type": "stream",
          "name": "stdout",
          "text": [
            "1\n"
          ]
        }
      ]
    },
    {
      "cell_type": "code",
      "source": [
        "#15. Write a code to create a tuple containing three different fruits and check if \"kiwi\" is in it\n",
        "\n",
        "tuple=('orange','apple','kiwi')\n",
        "fruit='kiwi'\n",
        "if fruit in tuple:\n",
        "  print(\"fruit found\")\n",
        "else:\n",
        "  print(\"fruit not found\")"
      ],
      "metadata": {
        "colab": {
          "base_uri": "https://localhost:8080/"
        },
        "id": "rMSwY4dzb_CM",
        "outputId": "16d7b49e-085b-450c-9331-53c843ed6217"
      },
      "execution_count": null,
      "outputs": [
        {
          "output_type": "stream",
          "name": "stdout",
          "text": [
            "fruit found\n"
          ]
        }
      ]
    },
    {
      "cell_type": "code",
      "source": [
        "#16.  Write a code to create a set with the elements 'a', 'b', 'c' and print it\n",
        "\n",
        "set1={'a', 'b', 'c'}\n",
        "print(set1)\n"
      ],
      "metadata": {
        "colab": {
          "base_uri": "https://localhost:8080/"
        },
        "id": "S_73AcZlcrGm",
        "outputId": "37c4089e-7a73-4274-f1f1-df44608544e3"
      },
      "execution_count": null,
      "outputs": [
        {
          "output_type": "stream",
          "name": "stdout",
          "text": [
            "{'a', 'c', 'b'}\n"
          ]
        }
      ]
    },
    {
      "cell_type": "code",
      "source": [
        "#17. Write a code to clear all elements from the set {1, 2, 3, 4, 5}.\n",
        "\n",
        "set1={1, 2, 3, 4, 5}\n",
        "cl=set1.clear()\n",
        "print(set1)"
      ],
      "metadata": {
        "colab": {
          "base_uri": "https://localhost:8080/"
        },
        "id": "47-A7E14c6x8",
        "outputId": "3be407e3-b385-459a-f62c-0d7e3c943df3"
      },
      "execution_count": null,
      "outputs": [
        {
          "output_type": "stream",
          "name": "stdout",
          "text": [
            "set()\n"
          ]
        }
      ]
    },
    {
      "cell_type": "code",
      "source": [
        "#18. Write a code to remove the element 4 from the set {1, 2, 3, 4}\n",
        "\n",
        "set1={1, 2, 3, 4}\n",
        "a=set1.remove(4)\n",
        "print(set1)"
      ],
      "metadata": {
        "colab": {
          "base_uri": "https://localhost:8080/"
        },
        "id": "PCgO3KYfdzFT",
        "outputId": "249bb9a2-f9e2-42f6-a15a-83c63f62f2ff"
      },
      "execution_count": null,
      "outputs": [
        {
          "output_type": "stream",
          "name": "stdout",
          "text": [
            "{1, 2, 3}\n"
          ]
        }
      ]
    },
    {
      "cell_type": "code",
      "source": [
        "#19. Write a code to find the union of two sets {1, 2, 3} and {3, 4, 5}.\n",
        "\n",
        "set1={1, 2, 3}\n",
        "set2={3, 4, 5}\n",
        "print(set1.union(set2))"
      ],
      "metadata": {
        "colab": {
          "base_uri": "https://localhost:8080/"
        },
        "id": "SRiud9b4eON8",
        "outputId": "3bb4fb82-ede2-4300-f776-abb83752a50c"
      },
      "execution_count": null,
      "outputs": [
        {
          "output_type": "stream",
          "name": "stdout",
          "text": [
            "{1, 2, 3, 4, 5}\n"
          ]
        }
      ]
    },
    {
      "cell_type": "code",
      "source": [
        "#20. Write a code to find the intersection of two sets {1, 2, 3} and {2, 3, 4}.\n",
        "\n",
        "set1={1, 2, 3}\n",
        "set2={2, 3, 4}\n",
        "print(set1.intersection(set2))"
      ],
      "metadata": {
        "colab": {
          "base_uri": "https://localhost:8080/"
        },
        "id": "uBIVJD26e9tm",
        "outputId": "5c837aa7-9a4c-48d0-fd1d-73f944f40a48"
      },
      "execution_count": null,
      "outputs": [
        {
          "output_type": "stream",
          "name": "stdout",
          "text": [
            "{2, 3}\n"
          ]
        }
      ]
    },
    {
      "cell_type": "code",
      "source": [
        "#21.Write a code to create a dictionary with the keys \"name\", \"age\", and \"city\", and print it.\n",
        "\n",
        "name=input(\"enter your name:\")\n",
        "age=int(input(\"Enter your age :\"))\n",
        "city=input(\"enter your city:\")\n",
        "dict={\"name\":name,\"age\":age,\"city\":city}\n",
        "print(dict)\n"
      ],
      "metadata": {
        "colab": {
          "base_uri": "https://localhost:8080/"
        },
        "id": "aIg8V3jffK3e",
        "outputId": "0f069b20-84d6-42d3-a8bf-e958968ea72a"
      },
      "execution_count": null,
      "outputs": [
        {
          "output_type": "stream",
          "name": "stdout",
          "text": [
            "enter your name:jasdeep\n",
            "Enter your age :20\n",
            "enter your city:delhi\n",
            "{'name': 'jasdeep', 'age': 20, 'city': 'delhi'}\n"
          ]
        }
      ]
    },
    {
      "cell_type": "code",
      "source": [
        "#22. Write a code to add a new key-value pair \"country\": \"USA\" to the dictionary {'name': 'John', 'age': 25}.\n",
        "\n",
        "dict={'name': 'John', 'age': 25}\n",
        "dict['country']='USA'\n",
        "print(dict)"
      ],
      "metadata": {
        "colab": {
          "base_uri": "https://localhost:8080/"
        },
        "id": "F55JTpJ-hURC",
        "outputId": "cf922672-c8f8-4963-ff37-361194acdf9f"
      },
      "execution_count": null,
      "outputs": [
        {
          "output_type": "stream",
          "name": "stdout",
          "text": [
            "{'name': 'John', 'age': 25, 'country': 'USA'}\n"
          ]
        }
      ]
    },
    {
      "cell_type": "code",
      "source": [
        "#23. Write a code to access the value associated with the key \"name\" in the dictionary {'name': 'Alice', 'age': 30}\n",
        "\n",
        "dict={'name': 'Alice', 'age': 30}\n",
        "print(dict['name'])"
      ],
      "metadata": {
        "colab": {
          "base_uri": "https://localhost:8080/"
        },
        "id": "q4A41_o9iVOL",
        "outputId": "3af9e13c-cbd1-4fc3-85ba-5eed65d0c6ce"
      },
      "execution_count": null,
      "outputs": [
        {
          "output_type": "stream",
          "name": "stdout",
          "text": [
            "Alice\n"
          ]
        }
      ]
    },
    {
      "cell_type": "code",
      "source": [
        "#24.  Write a code to remove the key \"age\" from the dictionary {'name': 'Bob', 'age': 22, 'city': 'New York'}.\n",
        "\n",
        "dict={'name': 'Bob', 'age': 22, 'city': 'New York'}\n",
        "print(dict.pop('age'),\"age is removed\")\n",
        "print(dict)"
      ],
      "metadata": {
        "colab": {
          "base_uri": "https://localhost:8080/"
        },
        "id": "YjgySrQsilno",
        "outputId": "056f9dab-2fca-4b38-c714-e69bfe888c5c"
      },
      "execution_count": null,
      "outputs": [
        {
          "output_type": "stream",
          "name": "stdout",
          "text": [
            "22 age is removed\n",
            "{'name': 'Bob', 'city': 'New York'}\n"
          ]
        }
      ]
    },
    {
      "cell_type": "code",
      "source": [
        "#25. Write a code to check if the key \"city\" exists in the dictionary {'name': 'Alice', 'city': 'Paris'}.\n",
        "\n",
        "dict={'name': 'Alice', 'city': 'Paris'}\n",
        "if \"city\" in dict:\n",
        "  print(\"Yes, the city exists\")\n",
        "else:\n",
        "  print(\"No, the city doesn't exist\")"
      ],
      "metadata": {
        "colab": {
          "base_uri": "https://localhost:8080/"
        },
        "id": "cseohj43jNE9",
        "outputId": "8cfa00a9-0026-46b2-b6f9-ae630e5b2720"
      },
      "execution_count": null,
      "outputs": [
        {
          "output_type": "stream",
          "name": "stdout",
          "text": [
            "Yes, the city exists\n"
          ]
        }
      ]
    },
    {
      "cell_type": "code",
      "source": [
        "#26.  Write a code to create a list, a tuple, and a dictionary, and print them all.\n",
        "name=input(\"enter your name:\")\n",
        "age=int(input(\"enter your age:\"))\n",
        "city=input(\"enter your city:\")\n",
        "lst=[name,age,city]\n",
        "tup=(name,age,city)\n",
        "dict={\"name\":name,\"age\":age,\"city\":city}\n",
        "print(\"LIST :\", lst)\n",
        "print(\"TUPLE :\", tup)\n",
        "print(\"DICTIONARY :\", dict)"
      ],
      "metadata": {
        "colab": {
          "base_uri": "https://localhost:8080/"
        },
        "id": "4TGSClBuj8ZA",
        "outputId": "be273936-f107-4cf7-86d2-cf85c187f242"
      },
      "execution_count": null,
      "outputs": [
        {
          "output_type": "stream",
          "name": "stdout",
          "text": [
            "enter your name:jasdeep\n",
            "enter your age:20\n",
            "enter your city:delhi\n",
            "LIST : ['jasdeep', 20, 'delhi']\n",
            "TUPLE : ('jasdeep', 20, 'delhi')\n",
            "DICTIONARY : {'name': 'jasdeep', 'age': 20, 'city': 'delhi'}\n"
          ]
        }
      ]
    },
    {
      "cell_type": "code",
      "source": [
        "#27. Write a code to create a list of 5 random numbers between 1 and 100, sort it in ascending order, and print the result.(replaced)\n",
        "\n",
        "import random\n",
        "random_num=[]\n",
        "for i in range(5):\n",
        "  random_num.append(random.randint(1,100))\n",
        "random_num.sort()\n",
        "print(random_num)"
      ],
      "metadata": {
        "colab": {
          "base_uri": "https://localhost:8080/"
        },
        "id": "08vSxG34lHm7",
        "outputId": "10ab3821-93ce-47fe-f5c1-3dac9b028719"
      },
      "execution_count": null,
      "outputs": [
        {
          "output_type": "stream",
          "name": "stdout",
          "text": [
            "[5, 51, 66, 95, 98]\n"
          ]
        }
      ]
    },
    {
      "cell_type": "code",
      "source": [
        "#28.  Write a code to create a list with strings and print the element at the third index.\n",
        "\n",
        "str1=input(\"enter a string\")\n",
        "str2=input(\"enter a string\")\n",
        "str3=input(\"enter a string\")\n",
        "str4=input(\"enter a string\")\n",
        "str5=input(\"enter a string\")\n",
        "str6=input(\"enter a string\")\n",
        "lst=[str1,str2,str3,str4,str5,str6]\n",
        "print(\"The list of strings:\",lst)\n",
        "print(lst[3])\n"
      ],
      "metadata": {
        "colab": {
          "base_uri": "https://localhost:8080/"
        },
        "id": "8VCD7bxtlXJq",
        "outputId": "aebbf45b-e2dc-402c-d5aa-9cfc89e0f3ff"
      },
      "execution_count": null,
      "outputs": [
        {
          "output_type": "stream",
          "name": "stdout",
          "text": [
            "enter a stringjas\n",
            "enter a stringdeep\n",
            "enter a stringsingh\n",
            "enter a stringsandhu\n",
            "enter a stringnov\n",
            "enter a stringdec\n",
            "The list of strings: ['jas', 'deep', 'singh', 'sandhu', 'nov', 'dec']\n",
            "sandhu\n"
          ]
        }
      ]
    },
    {
      "cell_type": "code",
      "source": [
        "#29. Write a code to combine two dictionaries into one and print the result\n",
        "\n",
        "d1 = {'hello': 1, 'bye': 2}\n",
        "d2 = {'bye': 3, 'gm': 4}\n",
        "d1.update(d2)\n",
        "print(d1)"
      ],
      "metadata": {
        "colab": {
          "base_uri": "https://localhost:8080/"
        },
        "id": "ozy5TwSmmtXh",
        "outputId": "43b3ab3d-3aa7-4131-c731-895bf0b01492"
      },
      "execution_count": null,
      "outputs": [
        {
          "output_type": "stream",
          "name": "stdout",
          "text": [
            "{'hello': 1, 'bye': 3, 'gm': 4}\n"
          ]
        }
      ]
    },
    {
      "cell_type": "code",
      "source": [
        "#30.Write a code to convert a list of strings into a set.\n",
        "\n",
        "list=[10,20,30,40,50]\n",
        "print(\"set of the above list is:\")\n",
        "print(set(list))\n"
      ],
      "metadata": {
        "colab": {
          "base_uri": "https://localhost:8080/"
        },
        "id": "UwsbkZY8nTJO",
        "outputId": "884f16b9-9ee4-41e4-cf70-2c770fba433a"
      },
      "execution_count": null,
      "outputs": [
        {
          "output_type": "stream",
          "name": "stdout",
          "text": [
            "set of the above list is:\n",
            "{40, 10, 50, 20, 30}\n"
          ]
        }
      ]
    }
  ]
}