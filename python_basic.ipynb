{
  "nbformat": 4,
  "nbformat_minor": 0,
  "metadata": {
    "colab": {
      "provenance": []
    },
    "kernelspec": {
      "name": "python3",
      "display_name": "Python 3"
    },
    "language_info": {
      "name": "python"
    }
  },
  "cells": [
    {
      "cell_type": "markdown",
      "source": [
        "**THEORY QUESTIONS-**\n",
        "\n",
        "1. What is Python, and why is it popular\n",
        "\n",
        "ANSWER- Python is a high level, interpreted programming language which is known for its simplicity, beginner friendly and readability.\n",
        "It was created by Guido Van Rossum in 1991. It supports oops concepts.\n",
        "\n",
        "Python is very popular due its simple and readable syntax, which are easy to learn and write, also the language is beginner friendly, covers wide range of applications including data science and machine learning, cybersecurity etc being a easier programming language, hence it is used by big companies.\n",
        "\n",
        "\n",
        "2. What is an interpreter in Python\n",
        "\n",
        "ANSWER- A python interpreter is a program that reads and execute our code line by line, which means we dont need to compile our code before running, python interpreter automatically coverts it into machine language while running.\n",
        "\n",
        "3. What are pre-defined keywords in Python\n",
        "\n",
        "ANSWER- predefined keywords are the reserved words that hold a special meaning and have specific purpose in python which is already known by the programming language.\n",
        "\n",
        "4. Can keywords be used as variable names\n",
        "\n",
        "ANSWER- No, they cannot be used as variable names, function names or class names by the programmer.\n",
        "\n",
        "5. What is mutability in Python\n",
        "\n",
        "ANSWER- mutability refers to the ability of an object to be modified after it has been created.\n",
        "\n",
        "6. Why are lists mutable, but tuples are immutable\n",
        "\n",
        "ANSWER-  lists are mutable whereas tuples are immutable. The reason for the tuple's immutability is that once the elements are added to the tuple and the tuple has been created, it remains unchanged.\n",
        "\n",
        "7. What is the difference between “==” and “is” operators in Python\n",
        "\n",
        "ANSWER- == and is operators are both used for comparison but they serve different purposes. The == operator checks for equality of values which means it evaluates whether the values of two objects are the same. On the other hand, is operator checks for identity, as it determines whether two variables point to the same object in memory.\n",
        "\n",
        "8.  What are logical operators in Python\n",
        "\n",
        "ANSWER- Logical operators in Python are used to combine conditional statements and evaluate multiple conditions to determine an overall truth value.  \n",
        "\n",
        "AND OPERATOR- returns true only if both the conditions are true\n",
        "OR OPERATOR- returns false only if both the conditions are false\n",
        "NOT OPERATOR- returns the opposite, if condition is true will return the false and vice versa\n",
        "\n",
        "9. What is type casting in Python\n",
        "\n",
        "ANSWER- Type casting in Python, also known as type conversion, is the process of converting a variable or value from one data type to another.\n",
        "\n",
        "10. What is the difference between implicit and explicit type casting\n",
        "\n",
        "ANSWER- IMPLICIT TYPE- This conversion is performed automatically by the Python interpreter when operations involve different data types, No data loss occurs.\n",
        "\n",
        "EXPLICIT TYPE- This conversion is performed explicitly by the programmer using built-in type conversion functions, possibility of data loss.\n",
        "\n",
        "11. What is the purpose of conditional statements in Python\n",
        "\n",
        "ANSWER- Conditional statements are used to execute block of code based on specific conditions. These statements help control the flow of a program, having different behaviour in different conditions.\n",
        "\n",
        "12.  How does the elif statement work\n",
        "\n",
        "ANSWER- elif or else if and is used to test multiple conditions. It is written following an if statemen to check an alternative condition if the first condition is false. The code block under the elif statement will be executed only if its condition is true.\n",
        "\n",
        "13. What is the difference between for and while loops\n",
        "\n",
        "ANSWER- for loops are used when no iterating over a sequence eg- lists, strings, ranges. They are used when the number of iterations is known in advance.\n",
        "\n",
        "while loops are used when the number of iterations is unknown in advance and the loop needs to continue as long as a specific condition remains true and terminates when the condition becomes false.\n",
        "\n",
        "14. Describe a scenario where a while loop is more suitable than a for loop.\n",
        "\n",
        "ANSWER- A while loop is more suitable than a for loop in Python when the number of iterations is not known in advance and the loop continue until the specific condition become false.\n"
      ],
      "metadata": {
        "id": "LVF2YL1o0Ax6"
      }
    },
    {
      "cell_type": "markdown",
      "source": [
        "**PRACTICAL QUESTIONS**"
      ],
      "metadata": {
        "id": "i0B0mv7PTTiC"
      }
    },
    {
      "cell_type": "code",
      "execution_count": null,
      "metadata": {
        "colab": {
          "base_uri": "https://localhost:8080/"
        },
        "id": "s3mkonFZxznm",
        "outputId": "0e819841-4962-4a38-b908-9504357ba469"
      },
      "outputs": [
        {
          "output_type": "stream",
          "name": "stdout",
          "text": [
            "Hello, World!\n"
          ]
        }
      ],
      "source": [
        "#1. Write a Python program to print \"Hello, World!\"\n",
        "\n",
        "print(\"Hello, World!\")\n"
      ]
    },
    {
      "cell_type": "code",
      "source": [
        "#2. Write a Python program that displays your name and age\n",
        "\n",
        "print(\"My Name is JASDEEP SINGH\")\n",
        "print(\"My age is 20\")\n",
        "\n"
      ],
      "metadata": {
        "colab": {
          "base_uri": "https://localhost:8080/"
        },
        "id": "rdDEW9W8245P",
        "outputId": "d5a114a8-8813-4e09-eb32-619f0486bc16"
      },
      "execution_count": null,
      "outputs": [
        {
          "output_type": "stream",
          "name": "stdout",
          "text": [
            "My Name is JASDEEP SINGH\n",
            "My age is 20\n"
          ]
        }
      ]
    },
    {
      "cell_type": "code",
      "source": [
        "#3. Write code to print all the pre-defined keywords in Python using the keyword library\n",
        "\n",
        "import keyword\n",
        "print(keyword.kwlist)"
      ],
      "metadata": {
        "colab": {
          "base_uri": "https://localhost:8080/"
        },
        "id": "rCdpusrk3-wg",
        "outputId": "fbc995a8-bc9f-4783-c9f8-22b4141190a9"
      },
      "execution_count": null,
      "outputs": [
        {
          "output_type": "stream",
          "name": "stdout",
          "text": [
            "['False', 'None', 'True', 'and', 'as', 'assert', 'async', 'await', 'break', 'class', 'continue', 'def', 'del', 'elif', 'else', 'except', 'finally', 'for', 'from', 'global', 'if', 'import', 'in', 'is', 'lambda', 'nonlocal', 'not', 'or', 'pass', 'raise', 'return', 'try', 'while', 'with', 'yield']\n"
          ]
        }
      ]
    },
    {
      "cell_type": "code",
      "source": [
        "#4. Write a program that checks if a given word is a Python keyword.\n",
        "\n",
        "import keyword\n",
        "word=str(input(\"Enter a word to check if it is a python keyword:\"))\n",
        "if word in keyword.kwlist:\n",
        "  print(\"It is a python keyword\")\n",
        "else:\n",
        "  print(\"It is not a python keyword\")"
      ],
      "metadata": {
        "colab": {
          "base_uri": "https://localhost:8080/"
        },
        "id": "7cIA0LDU4kH3",
        "outputId": "7ae77e09-5d46-467a-a03e-b0e06852906f"
      },
      "execution_count": 1,
      "outputs": [
        {
          "output_type": "stream",
          "name": "stdout",
          "text": [
            "Enter a word to check if it is a python keyword:True\n",
            "It is a python keyword\n"
          ]
        }
      ]
    },
    {
      "cell_type": "code",
      "source": [
        "#5. Create a list and tuple in Python, and demonstrate how attempting to change an element works differently for each.\n",
        "lst=[1,10,2]\n",
        "print(\"List before updation:\",lst)\n",
        "lst[2]=30\n",
        "print(\"List AFTER updation:\",lst,\"this is only possible because list are mutable that means even after creation we can update our list\")\n",
        "\n",
        "tup=(1,20,45)\n",
        "#tup[1]=2\n",
        "print(\"as tuples are immutable, therefore in above command if we remove '#' and error will generate in out code \")\n"
      ],
      "metadata": {
        "colab": {
          "base_uri": "https://localhost:8080/"
        },
        "id": "682sEXwRD2ff",
        "outputId": "b4da3429-d21d-49e0-f59a-a7cd637971d7"
      },
      "execution_count": null,
      "outputs": [
        {
          "output_type": "stream",
          "name": "stdout",
          "text": [
            "List before updation: [1, 10, 2]\n",
            "List AFTER updation: [1, 10, 30] this is only possible because list are mutable that means even after creation we can update our list\n",
            "as tuples are immutable, therefore in above command if we remove '#' and error will generate in out code \n"
          ]
        }
      ]
    },
    {
      "cell_type": "code",
      "source": [
        "#6. Write a function to demonstrate the behavior of mutable and immutable arguments.\n",
        "def num(x):\n",
        "  x=12\n",
        "  print(\"local\",x)\n",
        "x1=10\n",
        "num(x1)\n",
        "print(\"global\",x1)\n",
        "\n",
        "def lst(lst1):\n",
        "  lst1.append(4)\n",
        "  print(\"local\",lst1)\n",
        "lst1=[1,2,3]\n",
        "lst(lst1)\n",
        "print(\"global\",lst1)\n"
      ],
      "metadata": {
        "colab": {
          "base_uri": "https://localhost:8080/"
        },
        "id": "T6iRm_JqDaFz",
        "outputId": "7dfdfcda-eafe-47fe-d0f7-82645e965380"
      },
      "execution_count": null,
      "outputs": [
        {
          "output_type": "stream",
          "name": "stdout",
          "text": [
            "local 12\n",
            "global 10\n",
            "local [1, 2, 3, 4]\n",
            "global [1, 2, 3, 4]\n"
          ]
        }
      ]
    },
    {
      "cell_type": "code",
      "source": [
        "#7. Write a program that performs basic arithmetic operations on two user-input numbers.\n",
        "a=int(input(\"Enter first number:\"))\n",
        "b=int(input(\"Enter second number:\"))\n",
        "print(\"Addition of a and b is \",a+b)\n",
        "print(\"Subtraction of a and b is \",a-b)\n",
        "print(\"Multiplication of a and b is \",a*b)\n",
        "print(\"Division of a and b is \",a/b)"
      ],
      "metadata": {
        "colab": {
          "base_uri": "https://localhost:8080/"
        },
        "id": "-o2X_e-f_zQP",
        "outputId": "f591b422-c7fd-4e45-dc15-b293fc36b08f"
      },
      "execution_count": null,
      "outputs": [
        {
          "output_type": "stream",
          "name": "stdout",
          "text": [
            "Enter first number:2\n",
            "Enter second number:2\n",
            "Addition of a and b is  4\n",
            "Subtraction of a and b is  0\n",
            "Multiplication of a and b is  4\n",
            "Division of a and b is  1.0\n"
          ]
        }
      ]
    },
    {
      "cell_type": "code",
      "source": [
        "#8. Write a program to demonstrate the use of logical operators.\n",
        "a=40\n",
        "b=60\n",
        "c=3\n",
        "print(\"a<b and a<c\",a<b and a<c)\n",
        "print(\"a<b or a<c\",a<b or a<c)\n",
        "print(\"not a< b\",not a< b)"
      ],
      "metadata": {
        "colab": {
          "base_uri": "https://localhost:8080/"
        },
        "id": "fYBDKLvJ-f3k",
        "outputId": "cc78d6f0-70d9-4f7e-bb47-06042252f566"
      },
      "execution_count": 3,
      "outputs": [
        {
          "output_type": "stream",
          "name": "stdout",
          "text": [
            "a<b and a<c False\n",
            "a<b or a<c True\n",
            "not a< b False\n"
          ]
        }
      ]
    },
    {
      "cell_type": "code",
      "source": [
        "#9. Write a Python program to convert user input from string to integer, float, and boolean types.\n",
        "txt=input(\"Enter a string:\")\n",
        "print(int(txt))\n",
        "print(float(txt))\n",
        "print(bool(txt))"
      ],
      "metadata": {
        "colab": {
          "base_uri": "https://localhost:8080/"
        },
        "id": "4NKZvD3zBYZj",
        "outputId": "b8991944-ac92-42ec-b655-a3bb27058681"
      },
      "execution_count": null,
      "outputs": [
        {
          "output_type": "stream",
          "name": "stdout",
          "text": [
            "Enter a string:1000\n",
            "1000\n",
            "1000.0\n",
            "True\n"
          ]
        }
      ]
    },
    {
      "cell_type": "code",
      "source": [
        "#10. Write code to demonstrate type casting with list elements.\n",
        "lst=[\"1\",\"2\",\"3\"]\n",
        "print(\"original list:\",lst)\n",
        "new_lst=[]\n",
        "for i in lst:\n",
        "  new_lst.append(int(i))\n",
        "print(\"Type casted list is\",new_lst)\n",
        "\n"
      ],
      "metadata": {
        "colab": {
          "base_uri": "https://localhost:8080/"
        },
        "id": "TC3A8Z_vB5Rn",
        "outputId": "5b6c8f7d-7745-41ff-b4ff-3a6db319490c"
      },
      "execution_count": null,
      "outputs": [
        {
          "output_type": "stream",
          "name": "stdout",
          "text": [
            "original list: ['1', '2', '3']\n",
            "Type casted list is [1, 2, 3]\n"
          ]
        }
      ]
    },
    {
      "cell_type": "code",
      "source": [
        "#11. Write a program that checks if a number is positive, negative, or zero.\n",
        "num=int(input(\"Enter a number:\"))\n",
        "if num>0:\n",
        "  print(\"number is positive\")\n",
        "elif num<0:\n",
        "  print(\"number is negative\")\n",
        "else:\n",
        "  print(\"Zero\")"
      ],
      "metadata": {
        "colab": {
          "base_uri": "https://localhost:8080/"
        },
        "id": "Pq-1D8uH7srx",
        "outputId": "0de54bbb-bba6-4ab0-c661-e9d681d9162a"
      },
      "execution_count": null,
      "outputs": [
        {
          "output_type": "stream",
          "name": "stdout",
          "text": [
            "Enter a number:24\n",
            "number is positive\n"
          ]
        }
      ]
    },
    {
      "cell_type": "code",
      "source": [
        "#12. Write a for loop to print numbers from 1 to 10.\n",
        "for i in range(1,11):\n",
        "  print(i)"
      ],
      "metadata": {
        "colab": {
          "base_uri": "https://localhost:8080/"
        },
        "id": "31IgR6W97jb1",
        "outputId": "241c2735-2a05-4fd6-e04a-5681cc80fa65"
      },
      "execution_count": null,
      "outputs": [
        {
          "output_type": "stream",
          "name": "stdout",
          "text": [
            "1\n",
            "2\n",
            "3\n",
            "4\n",
            "5\n",
            "6\n",
            "7\n",
            "8\n",
            "9\n",
            "10\n"
          ]
        }
      ]
    },
    {
      "cell_type": "code",
      "source": [
        "#13. Write a Python program to find the sum of all even numbers between 1 and 50.\n",
        "sum=0\n",
        "for i in range(1,51):\n",
        "  if i%2==0:\n",
        "    print(i)\n",
        "    i=i+1\n",
        "    sum=sum+i\n",
        "print(sum,\"is sum of all even number in 1 to 50\")\n"
      ],
      "metadata": {
        "colab": {
          "base_uri": "https://localhost:8080/"
        },
        "id": "g8T1O0xi58xq",
        "outputId": "c9229238-254e-42dc-95ec-1a04c7718eac"
      },
      "execution_count": null,
      "outputs": [
        {
          "output_type": "stream",
          "name": "stdout",
          "text": [
            "2\n",
            "4\n",
            "6\n",
            "8\n",
            "10\n",
            "12\n",
            "14\n",
            "16\n",
            "18\n",
            "20\n",
            "22\n",
            "24\n",
            "26\n",
            "28\n",
            "30\n",
            "32\n",
            "34\n",
            "36\n",
            "38\n",
            "40\n",
            "42\n",
            "44\n",
            "46\n",
            "48\n",
            "50\n",
            "675 is sum of all even number in 1 to 50\n"
          ]
        }
      ]
    },
    {
      "cell_type": "code",
      "source": [
        "#14. Write a program to reverse a string using a while loop.\n",
        "\n",
        "user=str(input(\"Enter a string:\"))\n",
        "i=len(user)-1\n",
        "rev=\"\"\n",
        "while i>=0:\n",
        "  rev=rev+user[i]\n",
        "  i=i-1\n",
        "print(rev)"
      ],
      "metadata": {
        "colab": {
          "base_uri": "https://localhost:8080/"
        },
        "id": "HJy_YG9e7IzD",
        "outputId": "3204f1b5-bc0d-458a-d3c1-dea96ddfee32"
      },
      "execution_count": null,
      "outputs": [
        {
          "output_type": "stream",
          "name": "stdout",
          "text": [
            "Enter a string:good  night\n",
            "thgin  doog\n"
          ]
        }
      ]
    },
    {
      "cell_type": "code",
      "source": [
        "#15. Write a Python program to calculate the factorial of a number provided by the user using a while loop.\n",
        "fact=int(input(\"Enter a number:\"))\n",
        "fac=1\n",
        "i=1\n",
        "while i<=fact:\n",
        "  fac=fac*i\n",
        "  i=i+1\n",
        "print(\"Factorial of\",fact,\"is\",fac)"
      ],
      "metadata": {
        "colab": {
          "base_uri": "https://localhost:8080/"
        },
        "id": "ry1c-bDe7bqf",
        "outputId": "b68472fa-d697-4d61-de37-e1f61b52383e"
      },
      "execution_count": null,
      "outputs": [
        {
          "output_type": "stream",
          "name": "stdout",
          "text": [
            "Enter a number:2\n",
            "Factorial of 2 is 2\n"
          ]
        }
      ]
    }
  ]
}